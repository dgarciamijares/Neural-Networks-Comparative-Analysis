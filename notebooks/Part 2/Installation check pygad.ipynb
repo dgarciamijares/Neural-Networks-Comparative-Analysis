{
 "cells": [
  {
   "cell_type": "code",
   "execution_count": 2,
   "id": "97e6e394",
   "metadata": {},
   "outputs": [
    {
     "name": "stdout",
     "output_type": "stream",
     "text": [
      "Collecting pygad\n",
      "  Obtaining dependency information for pygad from https://files.pythonhosted.org/packages/a3/d9/70a12b10a08bc52ea66de0e8b4939ba010487207e7e3d9be9f4a59bc144b/pygad-3.2.0-py3-none-any.whl.metadata\n",
      "  Using cached pygad-3.2.0-py3-none-any.whl.metadata (17 kB)\n",
      "Requirement already satisfied: cloudpickle in /Users/danieljgarciam/anaconda3/lib/python3.11/site-packages (from pygad) (2.2.1)\n",
      "Requirement already satisfied: matplotlib in /Users/danieljgarciam/anaconda3/lib/python3.11/site-packages (from pygad) (3.7.1)\n",
      "Requirement already satisfied: numpy in /Users/danieljgarciam/anaconda3/lib/python3.11/site-packages (from pygad) (1.24.3)\n",
      "Requirement already satisfied: contourpy>=1.0.1 in /Users/danieljgarciam/anaconda3/lib/python3.11/site-packages (from matplotlib->pygad) (1.0.5)\n",
      "Requirement already satisfied: cycler>=0.10 in /Users/danieljgarciam/anaconda3/lib/python3.11/site-packages (from matplotlib->pygad) (0.11.0)\n",
      "Requirement already satisfied: fonttools>=4.22.0 in /Users/danieljgarciam/anaconda3/lib/python3.11/site-packages (from matplotlib->pygad) (4.25.0)\n",
      "Requirement already satisfied: kiwisolver>=1.0.1 in /Users/danieljgarciam/anaconda3/lib/python3.11/site-packages (from matplotlib->pygad) (1.4.4)\n",
      "Requirement already satisfied: packaging>=20.0 in /Users/danieljgarciam/anaconda3/lib/python3.11/site-packages (from matplotlib->pygad) (23.0)\n",
      "Requirement already satisfied: pillow>=6.2.0 in /Users/danieljgarciam/anaconda3/lib/python3.11/site-packages (from matplotlib->pygad) (9.4.0)\n",
      "Requirement already satisfied: pyparsing>=2.3.1 in /Users/danieljgarciam/anaconda3/lib/python3.11/site-packages (from matplotlib->pygad) (3.0.9)\n",
      "Requirement already satisfied: python-dateutil>=2.7 in /Users/danieljgarciam/anaconda3/lib/python3.11/site-packages (from matplotlib->pygad) (2.8.2)\n",
      "Requirement already satisfied: six>=1.5 in /Users/danieljgarciam/anaconda3/lib/python3.11/site-packages (from python-dateutil>=2.7->matplotlib->pygad) (1.16.0)\n",
      "Using cached pygad-3.2.0-py3-none-any.whl (80 kB)\n",
      "Installing collected packages: pygad\n",
      "Successfully installed pygad-3.2.0\n",
      "pygad installed correctly if no error messages\n"
     ]
    }
   ],
   "source": [
    "!pip install pygad\n",
    "'''To use pygad, first import it.'''\n",
    "import tensorflow.keras\n",
    "import numpy\n",
    "import pygad\n",
    "print('pygad installed correctly if no error messages')"
   ]
  },
  {
   "cell_type": "code",
   "execution_count": null,
   "id": "25c5d0f6",
   "metadata": {},
   "outputs": [],
   "source": []
  }
 ],
 "metadata": {
  "kernelspec": {
   "display_name": "Python 3 (ipykernel)",
   "language": "python",
   "name": "python3"
  },
  "language_info": {
   "codemirror_mode": {
    "name": "ipython",
    "version": 3
   },
   "file_extension": ".py",
   "mimetype": "text/x-python",
   "name": "python",
   "nbconvert_exporter": "python",
   "pygments_lexer": "ipython3",
   "version": "3.8.18"
  }
 },
 "nbformat": 4,
 "nbformat_minor": 5
}
